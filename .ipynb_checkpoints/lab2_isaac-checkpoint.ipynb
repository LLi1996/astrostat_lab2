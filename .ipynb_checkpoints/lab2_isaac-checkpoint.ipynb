{
 "cells": [
  {
   "cell_type": "code",
   "execution_count": 1,
   "metadata": {
    "collapsed": true
   },
   "outputs": [],
   "source": [
    "import numpy as np\n",
    "import matplotlib.pyplot as plt\n",
    "from astropy.io import ascii\n",
    "import scipy.constants as const"
   ]
  },
  {
   "cell_type": "code",
   "execution_count": 2,
   "metadata": {
    "collapsed": true
   },
   "outputs": [],
   "source": [
    "wavelength, logflux, logfluxerror = np.loadtxt('data/SED.dat', usecols=(0,1,2), delimiter='\\t', skiprows=5, unpack=True)"
   ]
  },
  {
   "cell_type": "code",
   "execution_count": 3,
   "metadata": {},
   "outputs": [
    {
     "name": "stdout",
     "output_type": "stream",
     "text": [
      "[  3.368   4.618  12.082  22.194   3.6     4.5  ] [-18.435 -17.042 -15.728 -16.307 -18.063 -17.173] [ 0.087  0.087  0.087  0.087  0.043  0.043]\n"
     ]
    }
   ],
   "source": [
    "print(wavelength, logflux, logfluxerror)"
   ]
  },
  {
   "cell_type": "code",
   "execution_count": 5,
   "metadata": {
    "collapsed": true
   },
   "outputs": [],
   "source": [
    "#planck law\n",
    "#(8piv^2 / c^3)(hv / e^(hv / kT) - 1)\n",
    "#function of v\n",
    "\n",
    "#v = flambda\n",
    "#f = c/lambda\n",
    "\n",
    "def model(v, Teff, logfactor):\n",
    "    #v = const.c / wavelength\n",
    "    a = 8*const.pi*v**2 / const.c**3\n",
    "    b = const.h*v\n",
    "    c = np.pow(const.e, const.h*v / const.k*Teff) - 1\n",
    "    planck = a*(b/c)\n",
    "    return planck\n",
    "\n",
    "freq = np.arange(0,50)\n",
    "\n",
    "#hmm...\n"
   ]
  },
  {
   "cell_type": "code",
   "execution_count": null,
   "metadata": {
    "collapsed": true
   },
   "outputs": [],
   "source": []
  },
  {
   "cell_type": "code",
   "execution_count": null,
   "metadata": {
    "collapsed": true
   },
   "outputs": [],
   "source": []
  },
  {
   "cell_type": "code",
   "execution_count": null,
   "metadata": {
    "collapsed": true
   },
   "outputs": [],
   "source": []
  },
  {
   "cell_type": "code",
   "execution_count": null,
   "metadata": {
    "collapsed": true
   },
   "outputs": [],
   "source": []
  },
  {
   "cell_type": "code",
   "execution_count": null,
   "metadata": {
    "collapsed": true
   },
   "outputs": [],
   "source": []
  },
  {
   "cell_type": "code",
   "execution_count": null,
   "metadata": {
    "collapsed": true
   },
   "outputs": [],
   "source": []
  },
  {
   "cell_type": "code",
   "execution_count": null,
   "metadata": {
    "collapsed": true
   },
   "outputs": [],
   "source": []
  }
 ],
 "metadata": {
  "kernelspec": {
   "display_name": "Python [conda root]",
   "language": "python",
   "name": "conda-root-py"
  },
  "language_info": {
   "codemirror_mode": {
    "name": "ipython",
    "version": 3
   },
   "file_extension": ".py",
   "mimetype": "text/x-python",
   "name": "python",
   "nbconvert_exporter": "python",
   "pygments_lexer": "ipython3",
   "version": "3.5.3"
  }
 },
 "nbformat": 4,
 "nbformat_minor": 2
}
