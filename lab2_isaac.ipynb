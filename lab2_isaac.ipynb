{
 "cells": [
  {
   "cell_type": "code",
   "execution_count": 1,
   "metadata": {},
   "outputs": [],
   "source": [
    "import numpy as np\n",
    "import matplotlib.pyplot as plt\n",
    "import math\n",
    "from astropy.io import ascii\n",
    "import scipy.constants as const\n",
    "import random\n",
    "import corner\n",
    "\n",
    "%matplotlib inline\n",
    "\n",
    "h = const.h\n",
    "c = const.c\n",
    "k = const.k\n",
    "e = math.e\n",
    "\n",
    "#check constants, just to be sure\n",
    "#print(h, c, k, e)"
   ]
  },
  {
   "cell_type": "code",
   "execution_count": 83,
   "metadata": {},
   "outputs": [],
   "source": [
    "#Column #1 = Wavelength [microns]\n",
    "#Column #2 = Log10( Flux [erg s^-1 cm^-1 Angstroms^-1] )\n",
    "#Column #3 = Error on Column 2\n",
    "\n",
    "wavelength, logflux, logfluxerror = np.loadtxt('data/SED.dat', usecols=(0,1,2), delimiter='\\t', skiprows=5, unpack=True)"
   ]
  },
  {
   "cell_type": "code",
   "execution_count": null,
   "metadata": {
    "collapsed": true
   },
   "outputs": [],
   "source": []
  },
  {
   "cell_type": "code",
   "execution_count": 84,
   "metadata": {},
   "outputs": [
    {
     "data": {
      "image/png": "[encoded data removed]",
      "text/plain": [
       "<matplotlib.figure.Figure at 0x2046cef16d8>"
      ]
     },
     "metadata": {},
     "output_type": "display_data"
    }
   ],
   "source": [
    "plt.plot(wavelength, logflux, 'bo')\n",
    "plt.title('WISE 0855-0714 data')\n",
    "plt.ylabel('$log_{10}(flux [erg s^{-1} cm^{-2} A^{-1}] )$')\n",
    "plt.xlabel('$\\lambda$ [$\\mu m$]')\n",
    "plt.show()"
   ]
  },
  {
   "cell_type": "markdown",
   "metadata": {},
   "source": [
    "### In terms of wavelength,\n",
    "\n",
    "# $B_{\\lambda}(T)  = \\frac{2hc^{2}/\\lambda^{5}}{e^{hc/\\lambda kT}-1}$\n",
    "\n"
   ]
  },
  {
   "cell_type": "code",
   "execution_count": 85,
   "metadata": {
    "collapsed": true
   },
   "outputs": [],
   "source": [
    "def logplanck(wavelength, temp, logfactor):\n",
    "    B = ((2*h*c**2) / (wavelength**5)) / (np.exp((h*c) / (wavelength*k*temp)) - 1)\n",
    "    intensity = np.log10(B) - logfactor\n",
    "    return intensity"
   ]
  },
  {
   "cell_type": "code",
   "execution_count": 86,
   "metadata": {},
   "outputs": [
    {
     "name": "stdout",
     "output_type": "stream",
     "text": [
      "[-211.90842773 -143.36076564 -109.27140013  -88.92751468  -75.43779723\n",
      "  -65.85422856  -58.70546132  -53.1755474   -48.77579363  -45.19576878]\n"
     ]
    }
   ],
   "source": [
    "#shape parameters for priors\n",
    "sigma = np.std(logflux)\n",
    "mu = np.mean(logflux)\n",
    "guess_theta = [300, 22.7]\n",
    "\n",
    "model_wavelength = np.arange(0.1e-6, 40e-6, .05e-6)\n",
    "model_Teff = 300\n",
    "\n",
    "model = logplanck(model_wavelength, guess_theta[0], guess_theta[1])\n",
    "print(model[0:10])"
   ]
  },
  {
   "cell_type": "code",
   "execution_count": 87,
   "metadata": {},
   "outputs": [
    {
     "data": {
      "image/png": "[encoded data removed]",
      "text/plain": [
       "<matplotlib.figure.Figure at 0x2046e1da080>"
      ]
     },
     "metadata": {},
     "output_type": "display_data"
    }
   ],
   "source": [
    "plt.plot(wavelength, logflux, 'bo')\n",
    "plt.plot(model_wavelength*1e6, model)\n",
    "plt.title('WISE 0855-0714 data -- guess fit')\n",
    "plt.ylabel('$log_{10}(flux [erg s^{-1} cm^{-2} A^{-1}] )$')\n",
    "plt.xlabel('$\\lambda$ [$\\mu m$]')\n",
    "plt.xlim(0,27)\n",
    "plt.ylim(-20,-15)\n",
    "plt.show()"
   ]
  },
  {
   "cell_type": "markdown",
   "metadata": {
    "collapsed": true
   },
   "source": [
    "# $log \\mathscr{L} = -\\frac{1}{2}\\Sigma(\\frac{r_{i}}{\\sigma_{i}})^{2}$"
   ]
  },
  {
   "cell_type": "code",
   "execution_count": 88,
   "metadata": {
    "collapsed": true
   },
   "outputs": [],
   "source": [
    "#set a definition for the loglikelihood, assuming normally distributed data\n",
    "def log_likelihood(wavelength, logflux, errlogflux, theta):\n",
    "    \n",
    "    chi_sq = [];\n",
    "    \n",
    "    for i in range(len(wavelength)):\n",
    "        #r = residual\n",
    "        #print('log_likelihood: for loop...')\n",
    "        r = logplanck(wavelength[i], theta[0], theta[1]) - logflux[i]\n",
    "        #print('r = ', r)\n",
    "        chi_sq.append((r / errlogflux[i])**2)\n",
    "    \n",
    "    loglike = -(np.sum(chi_sq)) / 2\n",
    "    return loglike"
   ]
  },
  {
   "cell_type": "code",
   "execution_count": null,
   "metadata": {
    "collapsed": true
   },
   "outputs": [],
   "source": []
  },
  {
   "cell_type": "code",
   "execution_count": null,
   "metadata": {
    "collapsed": true
   },
   "outputs": [],
   "source": [
    "\n",
    "\n"
   ]
  },
  {
   "cell_type": "code",
   "execution_count": null,
   "metadata": {
    "collapsed": true
   },
   "outputs": [],
   "source": []
  },
  {
   "cell_type": "code",
   "execution_count": null,
   "metadata": {
    "collapsed": true
   },
   "outputs": [],
   "source": []
  },
  {
   "cell_type": "code",
   "execution_count": 90,
   "metadata": {
    "collapsed": true
   },
   "outputs": [],
   "source": [
    "def mcmc(wavelength, logflux, errlogflux, prior, Nsteps, step_size):\n",
    "    \n",
    "    #count number of accepted jumps\n",
    "    count = 1\n",
    "    \n",
    "    #set boundaries\n",
    "    t_min = prior[0][0]; t_max = prior[0][1];\n",
    "    logfactor_min = prior[1][0]; logfactor_max = prior[1][1];\n",
    "    \n",
    "    #random initialization\n",
    "    theta = [[random.randint(t_min, t_max), random.randint(logfactor_min, logfactor_max)]]\n",
    "    \n",
    "    #compute loglikelihood\n",
    "    #log_likelihood(wavelength, logflux, errlogflux, theta):\n",
    "    likelihood = []\n",
    "    likelihood.append(log_likelihood(wavelength, logflux, errlogflux, theta[-1]))\n",
    "    #print('mcmc: likelihood: ')\n",
    "    \n",
    "    for i in range(Nsteps):\n",
    "        \n",
    "        #generate a jump proposal\n",
    "        proposed_jump = [np.random.normal(theta[-1][0], step_size), np.random.normal(theta[-1][1], step_size)]\n",
    "        \n",
    "        #store chi squared from proposal\n",
    "        temp_likelihood = log_likelihood(wavelength, logflux, errlogflux, proposed_jump)\n",
    "        \n",
    "        #jump if parameters are inbounds and if proposed chi squared is less than current chi squared\n",
    "        if ((t_min <= proposed_jump[0] <= t_max) and (logfactor_min <= proposed_jump[1] <= logfactor_max) and (temp_likelihood < likelihood[-1])):\n",
    "            #proposed theta becomes current theta\n",
    "            theta.append(proposed_jump)\n",
    "            \n",
    "            #proposed likelihood becomes currentlikelihood\n",
    "            likelihood.append(temp_likelihood)\n",
    "            count += 1\n",
    "        else:\n",
    "            next\n",
    "    return theta, likelihood, count\n",
    "            "
   ]
  },
  {
   "cell_type": "code",
   "execution_count": 109,
   "metadata": {},
   "outputs": [],
   "source": [
    "#mcmc(wavelength, logflux, errlogflux, prior, Nsteps, step_size)\n",
    "\n",
    "theta_array, likelihood_array, count = mcmc(wavelength, logflux, logfluxerror, [[200, 350], [-50, 0]], 10000, .5)"
   ]
  },
  {
   "cell_type": "code",
   "execution_count": 114,
   "metadata": {},
   "outputs": [
    {
     "name": "stdout",
     "output_type": "stream",
     "text": [
      "74 74\n",
      "[-589678.96498612617, -605048.24714810366, -620734.12675083138, -674780.63908157451, -700751.89226266323, -716581.56457432231, -719358.90774990921, -766578.97457012872, -766833.01790008915, -776893.75014658726, -806956.07077163691, -817934.60778305237, -856689.44565102179, -867481.66796314484, -884859.0333434944, -932045.64149269671, -933096.35921496851, -940228.86642693682, -973316.42510709516, -1018798.2330633843, -1076488.8775043627, -1089077.5679598909, -1105520.5885862387, -1149742.3983166211, -1162041.2220352625, -1216008.151890198, -1230935.4181378167, -1245563.2113303731, -1266532.1075079902, -1274771.9684805241, -1293379.8726497008, -1317422.6496508955, -1324117.4027204474, -1339540.3513524225, -1356010.2949458063, -1369084.2748251115, -1387649.1598584405, -1390946.1722680773, -1415355.8619603221, -1427389.9561788233, -1471095.4911383574, -1528012.3426281018, -1549381.9710190843, -1556754.8464346859, -1557650.7326102643, -1583604.7768417699, -1707966.7592501382, -1741211.4578954475, -1759822.8235462569, -1851241.0341226028, -1852183.5584528544, -1861005.2999133775, -1872431.4004177614, -1926150.671751396, -1952163.6913349549, -1962350.1173415915, -2076477.925123773, -2082029.636780567, -2119319.0323490091, -2126014.9695386575, -2153644.0891075269, -2193588.4824938043, -2207678.6350193238, -2211141.3325957484, -2254567.181446916, -2263895.5714552444, -2263991.6685762126, -2264194.0767681333, -2264343.2331778589, -2264448.2203237526, -2264452.0244005946, -2264459.1216782872, -2264661.4522027234, -2264758.6068503386]\n"
     ]
    },
    {
     "data": {
      "text/plain": [
       "[<matplotlib.lines.Line2D at 0x2046f56bc50>]"
      ]
     },
     "execution_count": 114,
     "metadata": {},
     "output_type": "execute_result"
    },
    {
     "data": {
      "image/png": "[encoded data removed]",
      "text/plain": [
       "<matplotlib.figure.Figure at 0x2046e572eb8>"
      ]
     },
     "metadata": {},
     "output_type": "display_data"
    }
   ],
   "source": [
    "print(count, len(likelihood_array))\n",
    "\n",
    "print(likelihood_array)\n",
    "\n",
    "plt.plot(range(count), likelihood_array)"
   ]
  },
  {
   "cell_type": "code",
   "execution_count": null,
   "metadata": {},
   "outputs": [],
   "source": [
    "plt.plot(theta_array()"
   ]
  },
  {
   "cell_type": "code",
   "execution_count": 128,
   "metadata": {},
   "outputs": [
    {
     "data": {
      "text/plain": [
       "[342, -24]"
      ]
     },
     "execution_count": 128,
     "metadata": {},
     "output_type": "execute_result"
    }
   ],
   "source": [
    "theta_array[][0]"
   ]
  },
  {
   "cell_type": "code",
   "execution_count": 35,
   "metadata": {
    "collapsed": true
   },
   "outputs": [],
   "source": [
    "foo.append(bar)"
   ]
  },
  {
   "cell_type": "code",
   "execution_count": 36,
   "metadata": {},
   "outputs": [
    {
     "data": {
      "text/plain": [
       "[[1, 2], [3, 4]]"
      ]
     },
     "execution_count": 36,
     "metadata": {},
     "output_type": "execute_result"
    }
   ],
   "source": [
    "foo"
   ]
  },
  {
   "cell_type": "code",
   "execution_count": 15,
   "metadata": {},
   "outputs": [
    {
     "name": "stdout",
     "output_type": "stream",
     "text": [
      "[[1, 2], [3, 4]]\n",
      "[3, 4]\n",
      "3\n"
     ]
    }
   ],
   "source": [
    "print(foo)\n",
    "print(foo[-1])\n",
    "print(foo[-1][0])"
   ]
  },
  {
   "cell_type": "code",
   "execution_count": null,
   "metadata": {
    "collapsed": true
   },
   "outputs": [],
   "source": []
  },
  {
   "cell_type": "code",
   "execution_count": null,
   "metadata": {
    "collapsed": true
   },
   "outputs": [],
   "source": []
  }
 ],
 "metadata": {
  "kernelspec": {
   "display_name": "Python [conda root]",
   "language": "python",
   "name": "conda-root-py"
  },
  "language_info": {
   "codemirror_mode": {
    "name": "ipython",
    "version": 3
   },
   "file_extension": ".py",
   "mimetype": "text/x-python",
   "name": "python",
   "nbconvert_exporter": "python",
   "pygments_lexer": "ipython3",
   "version": "3.5.3"
  }
 },
 "nbformat": 4,
 "nbformat_minor": 2
}
